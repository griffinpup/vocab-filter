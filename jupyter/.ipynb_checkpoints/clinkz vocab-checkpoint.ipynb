{
 "cells": [
  {
   "cell_type": "code",
   "execution_count": 4,
   "metadata": {},
   "outputs": [],
   "source": [
    "statements = []\n",
    "attribute_index = {\n",
    "    \"aggression\": 0,\n",
    "    \"question\": 1,\n",
    "    \"answer\": 2,\n",
    "    \"threat\": 3,\n",
    "    \"protection\": 4,\n",
    "    \"brag\": 5,\n",
    "    \"expletive\": 6\n",
    "}"
   ]
  },
  {
   "cell_type": "code",
   "execution_count": 2,
   "metadata": {},
   "outputs": [
    {
     "ename": "SyntaxError",
     "evalue": "invalid syntax (<ipython-input-2-53ed8153bca5>, line 2)",
     "output_type": "error",
     "traceback": [
      "\u001b[1;36m  File \u001b[1;32m\"<ipython-input-2-53ed8153bca5>\"\u001b[1;36m, line \u001b[1;32m2\u001b[0m\n\u001b[1;33m    self.message =\u001b[0m\n\u001b[1;37m                   ^\u001b[0m\n\u001b[1;31mSyntaxError\u001b[0m\u001b[1;31m:\u001b[0m invalid syntax\n"
     ]
    }
   ],
   "source": [
    "class Statement:\n",
    "    \n",
    "    def __init__(message, character):\n",
    "        self.attributes = [-1] * len(attribute_index)\n",
    "        self.message = \"\"\n",
    "        self.character = character\n",
    "    \n",
    "    def ChangeAttribute(value, idx):\n",
    "        self.attributes[idx] = value\n",
    "        \n",
    "    def PrintStatement():\n",
    "        print(message)\n",
    "        #todo: print character\n",
    "        \n",
    "    \n",
    "    "
   ]
  },
  {
   "cell_type": "code",
   "execution_count": null,
   "metadata": {},
   "outputs": [],
   "source": [
    "\"\""
   ]
  }
 ],
 "metadata": {
  "kernelspec": {
   "display_name": "Python 3",
   "language": "python",
   "name": "python3"
  },
  "language_info": {
   "codemirror_mode": {
    "name": "ipython",
    "version": 3
   },
   "file_extension": ".py",
   "mimetype": "text/x-python",
   "name": "python",
   "nbconvert_exporter": "python",
   "pygments_lexer": "ipython3",
   "version": "3.7.0"
  }
 },
 "nbformat": 4,
 "nbformat_minor": 2
}
