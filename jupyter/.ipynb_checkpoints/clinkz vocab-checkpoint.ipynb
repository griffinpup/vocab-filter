{
 "cells": [
  {
   "cell_type": "code",
   "execution_count": 55,
   "metadata": {},
   "outputs": [],
   "source": [
    "import copy"
   ]
  },
  {
   "cell_type": "code",
   "execution_count": 138,
   "metadata": {},
   "outputs": [],
   "source": [
    "statements = []\n",
    "attribute_index = {\n",
    "    \"aggression\": 0,\n",
    "    \"question\": 1,\n",
    "    \"answer\": 2,\n",
    "    \"threat\": 3,\n",
    "    \"protection\": 4,\n",
    "    \"brag\": 5,\n",
    "    \"expletive\": 6\n",
    "}"
   ]
  },
  {
   "cell_type": "code",
   "execution_count": 139,
   "metadata": {},
   "outputs": [],
   "source": [
    "class S:\n",
    "    \n",
    "    def __init__(self, message, character):\n",
    "        self.attributes = [-1] * len(attribute_index)\n",
    "        self.message = message\n",
    "        self.character = character\n",
    "    \n",
    "    def ChangeAttribute(self, value, idx):\n",
    "        self.attributes[attribute_index[value]] = value\n",
    "    \n",
    "    def ca(self, value, idx):\n",
    "        self.ChangeAttribute(value, idx)\n",
    "        \n",
    "    def Print(self):\n",
    "        print(self.message + \" : \" + self.character)\n",
    "        #todo: print character\n",
    "        \n",
    "    \n",
    "    "
   ]
  },
  {
   "cell_type": "code",
   "execution_count": 140,
   "metadata": {},
   "outputs": [],
   "source": [
    "class Vocab:\n",
    "    def __init__(self):\n",
    "        self.statements = []\n",
    "        self.sorted = False\n",
    "        \n",
    "    def SortStatements(self):\n",
    "        self.sorted_statements = []\n",
    "        for value, key in enumerate(attribute_index):\n",
    "            tmp_list = copy.deepcopy(self.statements)\n",
    "            tmp_list.sort(reverse=True,key = lambda s : s.attributes[value])\n",
    "            self.sorted_statements.append(tmp_list)\n",
    "        self.sorted = True\n",
    "        \n",
    "    def Take(self, attribute, count):\n",
    "        if (self.sorted):\n",
    "            for i in range(count):\n",
    "                if i < len(self.sorted_statements[attribute_index[attribute]]):\n",
    "                    print(self.sorted_statements[attribute_index[attribute]][i].Print())     "
   ]
  },
  {
   "cell_type": "code",
   "execution_count": 141,
   "metadata": {},
   "outputs": [
    {
     "name": "stdout",
     "output_type": "stream",
     "text": [
      "Hello world : God\n",
      "None\n",
      "statement 2 : Poop\n",
      "None\n",
      "statement 3 : Poop\n",
      "None\n",
      "statement 4 : Poop\n",
      "None\n",
      "statement 5 : Poop\n",
      "None\n",
      "statement 6 : Poop\n",
      "None\n",
      "statement 7 : Poop\n",
      "None\n"
     ]
    }
   ],
   "source": [
    "state = S(\"Hello world\", \"God\")\n",
    "state.attributes[attribute_index[\"answer\"]] = 6\n",
    "vocab = Vocab()\n",
    "vocab.statements.append(state)\n",
    "vocab.statements.append(S(\"statement 2\", \"Poop\"))\n",
    "vocab.statements.append(S(\"statement 3\", \"Poop\"))\n",
    "vocab.statements.append(S(\"statement 4\", \"Poop\"))\n",
    "vocab.statements.append(S(\"statement 5\", \"Poop\"))\n",
    "vocab.statements.append(S(\"statement 6\", \"Poop\"))\n",
    "vocab.statements.append(S(\"statement 7\", \"Poop\"))\n",
    "vocab.SortStatements()\n",
    "vocab.Take(\"answer\", 10)"
   ]
  },
  {
   "cell_type": "code",
   "execution_count": 142,
   "metadata": {},
   "outputs": [
    {
     "name": "stdout",
     "output_type": "stream",
     "text": [
      "Hello world : God\n"
     ]
    }
   ],
   "source": [
    "state.Print()"
   ]
  },
  {
   "cell_type": "code",
   "execution_count": 143,
   "metadata": {},
   "outputs": [],
   "source": [
    "v = Vocab()"
   ]
  },
  {
   "cell_type": "code",
   "execution_count": 144,
   "metadata": {},
   "outputs": [],
   "source": [
    "#Data entry\n",
    "s = S(\"I’ll keep you fed\", \"Territory\")\n",
    "s.ca(\"protection\", 8)\n",
    "v.statements.append(s)\n",
    "s = S(\"I’ll keep you fed\", \"Territory\")\n",
    "s.ca(\"protection\", 8)\n",
    "v.statements.append(s)\n",
    "s = S(\"I’ll keep you fed\", \"Territory\")\n",
    "s.ca(\"protection\", 8)\n",
    "v.statements.append(s)\n",
    "s = S(\"I’ll keep you fed\", \"Territory\")\n",
    "s.ca(\"protection\", 8)\n",
    "v.statements.append(s)\n",
    "s = S(\"I’ll keep you fed\", \"Territory\")\n",
    "s.ca(\"protection\", 8)\n",
    "v.statements.append(s)\n",
    "s = S(\"I’ll keep you fed\", \"Territory\")\n",
    "s.ca(\"protection\", 8)\n",
    "v.statements.append(s)\n",
    "s = S(\"I’ll keep you fed\", \"Territory\")\n",
    "s.ca(\"protection\", 8)\n",
    "v.statements.append(s)\n",
    "s = S(\"I’ll keep you fed\", \"Territory\")\n",
    "s.ca(\"protection\", 8)\n",
    "v.statements.append(s)\n",
    "s = S(\"I’ll keep you fed\", \"Territory\")\n",
    "s.ca(\"protection\", 8)\n",
    "v.statements.append(s)\n",
    "s = S(\"I’ll keep you fed\", \"Territory\")\n",
    "s.ca(\"protection\", 8)\n",
    "v.statements.append(s)\n",
    "s = S(\"I’ll keep you fed\", \"Territory\")\n",
    "s.ca(\"protection\", 8)\n",
    "v.statements.append(s)\n",
    "s = S(\"I’ll keep you fed\", \"Territory\")\n",
    "s.ca(\"protection\", 8)\n",
    "v.statements.append(s)"
   ]
  },
  {
   "cell_type": "code",
   "execution_count": null,
   "metadata": {},
   "outputs": [],
   "source": []
  }
 ],
 "metadata": {
  "kernelspec": {
   "display_name": "Python 3",
   "language": "python",
   "name": "python3"
  },
  "language_info": {
   "codemirror_mode": {
    "name": "ipython",
    "version": 3
   },
   "file_extension": ".py",
   "mimetype": "text/x-python",
   "name": "python",
   "nbconvert_exporter": "python",
   "pygments_lexer": "ipython3",
   "version": "3.7.4"
  }
 },
 "nbformat": 4,
 "nbformat_minor": 2
}
